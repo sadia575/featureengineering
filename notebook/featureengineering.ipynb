{
 "cells": [
  {
   "cell_type": "markdown",
   "metadata": {},
   "source": [
    "# Feature Engineering Projecy\n",
    "- Imports"
   ]
  },
  {
   "cell_type": "code",
   "execution_count": 1,
   "metadata": {},
   "outputs": [
    {
     "name": "stderr",
     "output_type": "stream",
     "text": [
      "C:\\Users\\Sadie\\AppData\\Local\\Temp\\ipykernel_28020\\648473009.py:1: DeprecationWarning: \n",
      "Pyarrow will become a required dependency of pandas in the next major release of pandas (pandas 3.0),\n",
      "(to allow more performant data types, such as the Arrow string type, and better interoperability with other libraries)\n",
      "but was not found to be installed on your system.\n",
      "If this would cause problems for you,\n",
      "please provide us feedback at https://github.com/pandas-dev/pandas/issues/54466\n",
      "        \n",
      "  import pandas as pd\n"
     ]
    }
   ],
   "source": [
    "import pandas as pd\n",
    "import seaborn as sns\n",
    "import numpy as np \n",
    "import matplotlib.pyplot as plt\n",
    "import os\n",
    "import glob"
   ]
  },
  {
   "cell_type": "code",
   "execution_count": 2,
   "metadata": {},
   "outputs": [],
   "source": [
    "\n",
    "def combine_csv_files(base_directory, folder_name, file_patterns):\n",
    "    \"\"\"\n",
    "    Combines CSV files from a specified folder within the base directory into a single DataFrame.\n",
    "\n",
    "    Parameters:\n",
    "    - base_directory (str): The base directory where the subfolder is located.\n",
    "    - folder_name (str): The name of the subfolder containing CSV files.\n",
    "    - file_patterns (list of str): List of file name patterns to match.\n",
    "\n",
    "    Returns:\n",
    "    - pd.DataFrame: A DataFrame containing the combined data from all CSV files that match the specified patterns.\n",
    "    \"\"\"\n",
    "    # Construct the full directory path\n",
    "    directory_path = os.path.join(base_directory, folder_name)\n",
    "\n",
    "    # Use glob to get a list of file paths that match the patterns\n",
    "    files = []\n",
    "    for pattern in file_patterns:\n",
    "        files.extend(glob.glob(os.path.join(directory_path, pattern)))\n",
    "\n",
    "    # Initialize an empty DataFrame to store the combined data\n",
    "    combined_df = pd.DataFrame()\n",
    "\n",
    "    # Loop through the list of file paths\n",
    "    for file in files:\n",
    "        # Read each CSV file into a DataFrame\n",
    "        df = pd.read_csv(file)\n",
    "\n",
    "        # Append the data from the current file to the combined DataFrame\n",
    "        combined_df = pd.concat([combined_df, df], ignore_index=True)\n",
    "\n",
    "    return combined_df\n",
    "\n",
    "base_directory = os.path.abspath(os.path.join(os.getcwd(), '..'))\n",
    "data_folder = os.path.join(base_directory, 'data')\n",
    "file_patterns = ['CMP-validation-*.csv', 'CMP-training-*.csv', 'CMP-test-*.csv']\n",
    "\n"
   ]
  },
  {
   "cell_type": "code",
   "execution_count": 3,
   "metadata": {},
   "outputs": [
    {
     "name": "stderr",
     "output_type": "stream",
     "text": [
      "C:\\Users\\Sadie\\AppData\\Local\\Temp\\ipykernel_28020\\1308180229.py:30: FutureWarning: The behavior of DataFrame concatenation with empty or all-NA entries is deprecated. In a future version, this will no longer exclude empty or all-NA columns when determining the result dtypes. To retain the old behavior, exclude the relevant entries before the concat operation.\n",
      "  combined_df = pd.concat([combined_df, df], ignore_index=True)\n",
      "C:\\Users\\Sadie\\AppData\\Local\\Temp\\ipykernel_28020\\1308180229.py:30: FutureWarning: The behavior of DataFrame concatenation with empty or all-NA entries is deprecated. In a future version, this will no longer exclude empty or all-NA columns when determining the result dtypes. To retain the old behavior, exclude the relevant entries before the concat operation.\n",
      "  combined_df = pd.concat([combined_df, df], ignore_index=True)\n",
      "C:\\Users\\Sadie\\AppData\\Local\\Temp\\ipykernel_28020\\1308180229.py:30: FutureWarning: The behavior of DataFrame concatenation with empty or all-NA entries is deprecated. In a future version, this will no longer exclude empty or all-NA columns when determining the result dtypes. To retain the old behavior, exclude the relevant entries before the concat operation.\n",
      "  combined_df = pd.concat([combined_df, df], ignore_index=True)\n",
      "C:\\Users\\Sadie\\AppData\\Local\\Temp\\ipykernel_28020\\1308180229.py:30: FutureWarning: The behavior of DataFrame concatenation with empty or all-NA entries is deprecated. In a future version, this will no longer exclude empty or all-NA columns when determining the result dtypes. To retain the old behavior, exclude the relevant entries before the concat operation.\n",
      "  combined_df = pd.concat([combined_df, df], ignore_index=True)\n",
      "C:\\Users\\Sadie\\AppData\\Local\\Temp\\ipykernel_28020\\1308180229.py:30: FutureWarning: The behavior of DataFrame concatenation with empty or all-NA entries is deprecated. In a future version, this will no longer exclude empty or all-NA columns when determining the result dtypes. To retain the old behavior, exclude the relevant entries before the concat operation.\n",
      "  combined_df = pd.concat([combined_df, df], ignore_index=True)\n",
      "C:\\Users\\Sadie\\AppData\\Local\\Temp\\ipykernel_28020\\1308180229.py:30: FutureWarning: The behavior of DataFrame concatenation with empty or all-NA entries is deprecated. In a future version, this will no longer exclude empty or all-NA columns when determining the result dtypes. To retain the old behavior, exclude the relevant entries before the concat operation.\n",
      "  combined_df = pd.concat([combined_df, df], ignore_index=True)\n",
      "C:\\Users\\Sadie\\AppData\\Local\\Temp\\ipykernel_28020\\1308180229.py:30: FutureWarning: The behavior of DataFrame concatenation with empty or all-NA entries is deprecated. In a future version, this will no longer exclude empty or all-NA columns when determining the result dtypes. To retain the old behavior, exclude the relevant entries before the concat operation.\n",
      "  combined_df = pd.concat([combined_df, df], ignore_index=True)\n",
      "C:\\Users\\Sadie\\AppData\\Local\\Temp\\ipykernel_28020\\1308180229.py:30: FutureWarning: The behavior of DataFrame concatenation with empty or all-NA entries is deprecated. In a future version, this will no longer exclude empty or all-NA columns when determining the result dtypes. To retain the old behavior, exclude the relevant entries before the concat operation.\n",
      "  combined_df = pd.concat([combined_df, df], ignore_index=True)\n",
      "C:\\Users\\Sadie\\AppData\\Local\\Temp\\ipykernel_28020\\1308180229.py:30: FutureWarning: The behavior of DataFrame concatenation with empty or all-NA entries is deprecated. In a future version, this will no longer exclude empty or all-NA columns when determining the result dtypes. To retain the old behavior, exclude the relevant entries before the concat operation.\n",
      "  combined_df = pd.concat([combined_df, df], ignore_index=True)\n",
      "C:\\Users\\Sadie\\AppData\\Local\\Temp\\ipykernel_28020\\1308180229.py:30: FutureWarning: The behavior of DataFrame concatenation with empty or all-NA entries is deprecated. In a future version, this will no longer exclude empty or all-NA columns when determining the result dtypes. To retain the old behavior, exclude the relevant entries before the concat operation.\n",
      "  combined_df = pd.concat([combined_df, df], ignore_index=True)\n",
      "C:\\Users\\Sadie\\AppData\\Local\\Temp\\ipykernel_28020\\1308180229.py:30: FutureWarning: The behavior of DataFrame concatenation with empty or all-NA entries is deprecated. In a future version, this will no longer exclude empty or all-NA columns when determining the result dtypes. To retain the old behavior, exclude the relevant entries before the concat operation.\n",
      "  combined_df = pd.concat([combined_df, df], ignore_index=True)\n",
      "C:\\Users\\Sadie\\AppData\\Local\\Temp\\ipykernel_28020\\1308180229.py:30: FutureWarning: The behavior of DataFrame concatenation with empty or all-NA entries is deprecated. In a future version, this will no longer exclude empty or all-NA columns when determining the result dtypes. To retain the old behavior, exclude the relevant entries before the concat operation.\n",
      "  combined_df = pd.concat([combined_df, df], ignore_index=True)\n",
      "C:\\Users\\Sadie\\AppData\\Local\\Temp\\ipykernel_28020\\1308180229.py:30: FutureWarning: The behavior of DataFrame concatenation with empty or all-NA entries is deprecated. In a future version, this will no longer exclude empty or all-NA columns when determining the result dtypes. To retain the old behavior, exclude the relevant entries before the concat operation.\n",
      "  combined_df = pd.concat([combined_df, df], ignore_index=True)\n",
      "C:\\Users\\Sadie\\AppData\\Local\\Temp\\ipykernel_28020\\1308180229.py:30: FutureWarning: The behavior of DataFrame concatenation with empty or all-NA entries is deprecated. In a future version, this will no longer exclude empty or all-NA columns when determining the result dtypes. To retain the old behavior, exclude the relevant entries before the concat operation.\n",
      "  combined_df = pd.concat([combined_df, df], ignore_index=True)\n",
      "C:\\Users\\Sadie\\AppData\\Local\\Temp\\ipykernel_28020\\1308180229.py:30: FutureWarning: The behavior of DataFrame concatenation with empty or all-NA entries is deprecated. In a future version, this will no longer exclude empty or all-NA columns when determining the result dtypes. To retain the old behavior, exclude the relevant entries before the concat operation.\n",
      "  combined_df = pd.concat([combined_df, df], ignore_index=True)\n",
      "C:\\Users\\Sadie\\AppData\\Local\\Temp\\ipykernel_28020\\1308180229.py:30: FutureWarning: The behavior of DataFrame concatenation with empty or all-NA entries is deprecated. In a future version, this will no longer exclude empty or all-NA columns when determining the result dtypes. To retain the old behavior, exclude the relevant entries before the concat operation.\n",
      "  combined_df = pd.concat([combined_df, df], ignore_index=True)\n",
      "C:\\Users\\Sadie\\AppData\\Local\\Temp\\ipykernel_28020\\1308180229.py:30: FutureWarning: The behavior of DataFrame concatenation with empty or all-NA entries is deprecated. In a future version, this will no longer exclude empty or all-NA columns when determining the result dtypes. To retain the old behavior, exclude the relevant entries before the concat operation.\n",
      "  combined_df = pd.concat([combined_df, df], ignore_index=True)\n",
      "C:\\Users\\Sadie\\AppData\\Local\\Temp\\ipykernel_28020\\1308180229.py:30: FutureWarning: The behavior of DataFrame concatenation with empty or all-NA entries is deprecated. In a future version, this will no longer exclude empty or all-NA columns when determining the result dtypes. To retain the old behavior, exclude the relevant entries before the concat operation.\n",
      "  combined_df = pd.concat([combined_df, df], ignore_index=True)\n",
      "C:\\Users\\Sadie\\AppData\\Local\\Temp\\ipykernel_28020\\1308180229.py:30: FutureWarning: The behavior of DataFrame concatenation with empty or all-NA entries is deprecated. In a future version, this will no longer exclude empty or all-NA columns when determining the result dtypes. To retain the old behavior, exclude the relevant entries before the concat operation.\n",
      "  combined_df = pd.concat([combined_df, df], ignore_index=True)\n",
      "C:\\Users\\Sadie\\AppData\\Local\\Temp\\ipykernel_28020\\1308180229.py:30: FutureWarning: The behavior of DataFrame concatenation with empty or all-NA entries is deprecated. In a future version, this will no longer exclude empty or all-NA columns when determining the result dtypes. To retain the old behavior, exclude the relevant entries before the concat operation.\n",
      "  combined_df = pd.concat([combined_df, df], ignore_index=True)\n",
      "C:\\Users\\Sadie\\AppData\\Local\\Temp\\ipykernel_28020\\1308180229.py:30: FutureWarning: The behavior of DataFrame concatenation with empty or all-NA entries is deprecated. In a future version, this will no longer exclude empty or all-NA columns when determining the result dtypes. To retain the old behavior, exclude the relevant entries before the concat operation.\n",
      "  combined_df = pd.concat([combined_df, df], ignore_index=True)\n",
      "C:\\Users\\Sadie\\AppData\\Local\\Temp\\ipykernel_28020\\1308180229.py:30: FutureWarning: The behavior of DataFrame concatenation with empty or all-NA entries is deprecated. In a future version, this will no longer exclude empty or all-NA columns when determining the result dtypes. To retain the old behavior, exclude the relevant entries before the concat operation.\n",
      "  combined_df = pd.concat([combined_df, df], ignore_index=True)\n",
      "C:\\Users\\Sadie\\AppData\\Local\\Temp\\ipykernel_28020\\1308180229.py:30: FutureWarning: The behavior of DataFrame concatenation with empty or all-NA entries is deprecated. In a future version, this will no longer exclude empty or all-NA columns when determining the result dtypes. To retain the old behavior, exclude the relevant entries before the concat operation.\n",
      "  combined_df = pd.concat([combined_df, df], ignore_index=True)\n",
      "C:\\Users\\Sadie\\AppData\\Local\\Temp\\ipykernel_28020\\1308180229.py:30: FutureWarning: The behavior of DataFrame concatenation with empty or all-NA entries is deprecated. In a future version, this will no longer exclude empty or all-NA columns when determining the result dtypes. To retain the old behavior, exclude the relevant entries before the concat operation.\n",
      "  combined_df = pd.concat([combined_df, df], ignore_index=True)\n",
      "C:\\Users\\Sadie\\AppData\\Local\\Temp\\ipykernel_28020\\1308180229.py:30: FutureWarning: The behavior of DataFrame concatenation with empty or all-NA entries is deprecated. In a future version, this will no longer exclude empty or all-NA columns when determining the result dtypes. To retain the old behavior, exclude the relevant entries before the concat operation.\n",
      "  combined_df = pd.concat([combined_df, df], ignore_index=True)\n",
      "C:\\Users\\Sadie\\AppData\\Local\\Temp\\ipykernel_28020\\1308180229.py:30: FutureWarning: The behavior of DataFrame concatenation with empty or all-NA entries is deprecated. In a future version, this will no longer exclude empty or all-NA columns when determining the result dtypes. To retain the old behavior, exclude the relevant entries before the concat operation.\n",
      "  combined_df = pd.concat([combined_df, df], ignore_index=True)\n",
      "C:\\Users\\Sadie\\AppData\\Local\\Temp\\ipykernel_28020\\1308180229.py:30: FutureWarning: The behavior of DataFrame concatenation with empty or all-NA entries is deprecated. In a future version, this will no longer exclude empty or all-NA columns when determining the result dtypes. To retain the old behavior, exclude the relevant entries before the concat operation.\n",
      "  combined_df = pd.concat([combined_df, df], ignore_index=True)\n"
     ]
    }
   ],
   "source": [
    "validation_folder = os.path.join(data_folder, 'validation')\n",
    "validation = combine_csv_files(data_folder, validation_folder, file_patterns)\n"
   ]
  },
  {
   "cell_type": "code",
   "execution_count": 4,
   "metadata": {},
   "outputs": [
    {
     "name": "stderr",
     "output_type": "stream",
     "text": [
      "C:\\Users\\Sadie\\AppData\\Local\\Temp\\ipykernel_28020\\1308180229.py:30: FutureWarning: The behavior of DataFrame concatenation with empty or all-NA entries is deprecated. In a future version, this will no longer exclude empty or all-NA columns when determining the result dtypes. To retain the old behavior, exclude the relevant entries before the concat operation.\n",
      "  combined_df = pd.concat([combined_df, df], ignore_index=True)\n"
     ]
    }
   ],
   "source": [
    "training_folder = os.path.join(data_folder, 'training')\n",
    "training = combine_csv_files(data_folder, training_folder, file_patterns) \n"
   ]
  },
  {
   "cell_type": "code",
   "execution_count": 5,
   "metadata": {},
   "outputs": [
    {
     "name": "stderr",
     "output_type": "stream",
     "text": [
      "C:\\Users\\Sadie\\AppData\\Local\\Temp\\ipykernel_28020\\1308180229.py:30: FutureWarning: The behavior of DataFrame concatenation with empty or all-NA entries is deprecated. In a future version, this will no longer exclude empty or all-NA columns when determining the result dtypes. To retain the old behavior, exclude the relevant entries before the concat operation.\n",
      "  combined_df = pd.concat([combined_df, df], ignore_index=True)\n",
      "C:\\Users\\Sadie\\AppData\\Local\\Temp\\ipykernel_28020\\1308180229.py:30: FutureWarning: The behavior of DataFrame concatenation with empty or all-NA entries is deprecated. In a future version, this will no longer exclude empty or all-NA columns when determining the result dtypes. To retain the old behavior, exclude the relevant entries before the concat operation.\n",
      "  combined_df = pd.concat([combined_df, df], ignore_index=True)\n",
      "C:\\Users\\Sadie\\AppData\\Local\\Temp\\ipykernel_28020\\1308180229.py:30: FutureWarning: The behavior of DataFrame concatenation with empty or all-NA entries is deprecated. In a future version, this will no longer exclude empty or all-NA columns when determining the result dtypes. To retain the old behavior, exclude the relevant entries before the concat operation.\n",
      "  combined_df = pd.concat([combined_df, df], ignore_index=True)\n",
      "C:\\Users\\Sadie\\AppData\\Local\\Temp\\ipykernel_28020\\1308180229.py:30: FutureWarning: The behavior of DataFrame concatenation with empty or all-NA entries is deprecated. In a future version, this will no longer exclude empty or all-NA columns when determining the result dtypes. To retain the old behavior, exclude the relevant entries before the concat operation.\n",
      "  combined_df = pd.concat([combined_df, df], ignore_index=True)\n",
      "C:\\Users\\Sadie\\AppData\\Local\\Temp\\ipykernel_28020\\1308180229.py:30: FutureWarning: The behavior of DataFrame concatenation with empty or all-NA entries is deprecated. In a future version, this will no longer exclude empty or all-NA columns when determining the result dtypes. To retain the old behavior, exclude the relevant entries before the concat operation.\n",
      "  combined_df = pd.concat([combined_df, df], ignore_index=True)\n",
      "C:\\Users\\Sadie\\AppData\\Local\\Temp\\ipykernel_28020\\1308180229.py:30: FutureWarning: The behavior of DataFrame concatenation with empty or all-NA entries is deprecated. In a future version, this will no longer exclude empty or all-NA columns when determining the result dtypes. To retain the old behavior, exclude the relevant entries before the concat operation.\n",
      "  combined_df = pd.concat([combined_df, df], ignore_index=True)\n",
      "C:\\Users\\Sadie\\AppData\\Local\\Temp\\ipykernel_28020\\1308180229.py:30: FutureWarning: The behavior of DataFrame concatenation with empty or all-NA entries is deprecated. In a future version, this will no longer exclude empty or all-NA columns when determining the result dtypes. To retain the old behavior, exclude the relevant entries before the concat operation.\n",
      "  combined_df = pd.concat([combined_df, df], ignore_index=True)\n",
      "C:\\Users\\Sadie\\AppData\\Local\\Temp\\ipykernel_28020\\1308180229.py:30: FutureWarning: The behavior of DataFrame concatenation with empty or all-NA entries is deprecated. In a future version, this will no longer exclude empty or all-NA columns when determining the result dtypes. To retain the old behavior, exclude the relevant entries before the concat operation.\n",
      "  combined_df = pd.concat([combined_df, df], ignore_index=True)\n",
      "C:\\Users\\Sadie\\AppData\\Local\\Temp\\ipykernel_28020\\1308180229.py:30: FutureWarning: The behavior of DataFrame concatenation with empty or all-NA entries is deprecated. In a future version, this will no longer exclude empty or all-NA columns when determining the result dtypes. To retain the old behavior, exclude the relevant entries before the concat operation.\n",
      "  combined_df = pd.concat([combined_df, df], ignore_index=True)\n",
      "C:\\Users\\Sadie\\AppData\\Local\\Temp\\ipykernel_28020\\1308180229.py:30: FutureWarning: The behavior of DataFrame concatenation with empty or all-NA entries is deprecated. In a future version, this will no longer exclude empty or all-NA columns when determining the result dtypes. To retain the old behavior, exclude the relevant entries before the concat operation.\n",
      "  combined_df = pd.concat([combined_df, df], ignore_index=True)\n",
      "C:\\Users\\Sadie\\AppData\\Local\\Temp\\ipykernel_28020\\1308180229.py:30: FutureWarning: The behavior of DataFrame concatenation with empty or all-NA entries is deprecated. In a future version, this will no longer exclude empty or all-NA columns when determining the result dtypes. To retain the old behavior, exclude the relevant entries before the concat operation.\n",
      "  combined_df = pd.concat([combined_df, df], ignore_index=True)\n",
      "C:\\Users\\Sadie\\AppData\\Local\\Temp\\ipykernel_28020\\1308180229.py:30: FutureWarning: The behavior of DataFrame concatenation with empty or all-NA entries is deprecated. In a future version, this will no longer exclude empty or all-NA columns when determining the result dtypes. To retain the old behavior, exclude the relevant entries before the concat operation.\n",
      "  combined_df = pd.concat([combined_df, df], ignore_index=True)\n",
      "C:\\Users\\Sadie\\AppData\\Local\\Temp\\ipykernel_28020\\1308180229.py:30: FutureWarning: The behavior of DataFrame concatenation with empty or all-NA entries is deprecated. In a future version, this will no longer exclude empty or all-NA columns when determining the result dtypes. To retain the old behavior, exclude the relevant entries before the concat operation.\n",
      "  combined_df = pd.concat([combined_df, df], ignore_index=True)\n",
      "C:\\Users\\Sadie\\AppData\\Local\\Temp\\ipykernel_28020\\1308180229.py:30: FutureWarning: The behavior of DataFrame concatenation with empty or all-NA entries is deprecated. In a future version, this will no longer exclude empty or all-NA columns when determining the result dtypes. To retain the old behavior, exclude the relevant entries before the concat operation.\n",
      "  combined_df = pd.concat([combined_df, df], ignore_index=True)\n",
      "C:\\Users\\Sadie\\AppData\\Local\\Temp\\ipykernel_28020\\1308180229.py:30: FutureWarning: The behavior of DataFrame concatenation with empty or all-NA entries is deprecated. In a future version, this will no longer exclude empty or all-NA columns when determining the result dtypes. To retain the old behavior, exclude the relevant entries before the concat operation.\n",
      "  combined_df = pd.concat([combined_df, df], ignore_index=True)\n",
      "C:\\Users\\Sadie\\AppData\\Local\\Temp\\ipykernel_28020\\1308180229.py:30: FutureWarning: The behavior of DataFrame concatenation with empty or all-NA entries is deprecated. In a future version, this will no longer exclude empty or all-NA columns when determining the result dtypes. To retain the old behavior, exclude the relevant entries before the concat operation.\n",
      "  combined_df = pd.concat([combined_df, df], ignore_index=True)\n",
      "C:\\Users\\Sadie\\AppData\\Local\\Temp\\ipykernel_28020\\1308180229.py:30: FutureWarning: The behavior of DataFrame concatenation with empty or all-NA entries is deprecated. In a future version, this will no longer exclude empty or all-NA columns when determining the result dtypes. To retain the old behavior, exclude the relevant entries before the concat operation.\n",
      "  combined_df = pd.concat([combined_df, df], ignore_index=True)\n",
      "C:\\Users\\Sadie\\AppData\\Local\\Temp\\ipykernel_28020\\1308180229.py:30: FutureWarning: The behavior of DataFrame concatenation with empty or all-NA entries is deprecated. In a future version, this will no longer exclude empty or all-NA columns when determining the result dtypes. To retain the old behavior, exclude the relevant entries before the concat operation.\n",
      "  combined_df = pd.concat([combined_df, df], ignore_index=True)\n",
      "C:\\Users\\Sadie\\AppData\\Local\\Temp\\ipykernel_28020\\1308180229.py:30: FutureWarning: The behavior of DataFrame concatenation with empty or all-NA entries is deprecated. In a future version, this will no longer exclude empty or all-NA columns when determining the result dtypes. To retain the old behavior, exclude the relevant entries before the concat operation.\n",
      "  combined_df = pd.concat([combined_df, df], ignore_index=True)\n",
      "C:\\Users\\Sadie\\AppData\\Local\\Temp\\ipykernel_28020\\1308180229.py:30: FutureWarning: The behavior of DataFrame concatenation with empty or all-NA entries is deprecated. In a future version, this will no longer exclude empty or all-NA columns when determining the result dtypes. To retain the old behavior, exclude the relevant entries before the concat operation.\n",
      "  combined_df = pd.concat([combined_df, df], ignore_index=True)\n",
      "C:\\Users\\Sadie\\AppData\\Local\\Temp\\ipykernel_28020\\1308180229.py:30: FutureWarning: The behavior of DataFrame concatenation with empty or all-NA entries is deprecated. In a future version, this will no longer exclude empty or all-NA columns when determining the result dtypes. To retain the old behavior, exclude the relevant entries before the concat operation.\n",
      "  combined_df = pd.concat([combined_df, df], ignore_index=True)\n",
      "C:\\Users\\Sadie\\AppData\\Local\\Temp\\ipykernel_28020\\1308180229.py:30: FutureWarning: The behavior of DataFrame concatenation with empty or all-NA entries is deprecated. In a future version, this will no longer exclude empty or all-NA columns when determining the result dtypes. To retain the old behavior, exclude the relevant entries before the concat operation.\n",
      "  combined_df = pd.concat([combined_df, df], ignore_index=True)\n",
      "C:\\Users\\Sadie\\AppData\\Local\\Temp\\ipykernel_28020\\1308180229.py:30: FutureWarning: The behavior of DataFrame concatenation with empty or all-NA entries is deprecated. In a future version, this will no longer exclude empty or all-NA columns when determining the result dtypes. To retain the old behavior, exclude the relevant entries before the concat operation.\n",
      "  combined_df = pd.concat([combined_df, df], ignore_index=True)\n",
      "C:\\Users\\Sadie\\AppData\\Local\\Temp\\ipykernel_28020\\1308180229.py:30: FutureWarning: The behavior of DataFrame concatenation with empty or all-NA entries is deprecated. In a future version, this will no longer exclude empty or all-NA columns when determining the result dtypes. To retain the old behavior, exclude the relevant entries before the concat operation.\n",
      "  combined_df = pd.concat([combined_df, df], ignore_index=True)\n",
      "C:\\Users\\Sadie\\AppData\\Local\\Temp\\ipykernel_28020\\1308180229.py:30: FutureWarning: The behavior of DataFrame concatenation with empty or all-NA entries is deprecated. In a future version, this will no longer exclude empty or all-NA columns when determining the result dtypes. To retain the old behavior, exclude the relevant entries before the concat operation.\n",
      "  combined_df = pd.concat([combined_df, df], ignore_index=True)\n",
      "C:\\Users\\Sadie\\AppData\\Local\\Temp\\ipykernel_28020\\1308180229.py:30: FutureWarning: The behavior of DataFrame concatenation with empty or all-NA entries is deprecated. In a future version, this will no longer exclude empty or all-NA columns when determining the result dtypes. To retain the old behavior, exclude the relevant entries before the concat operation.\n",
      "  combined_df = pd.concat([combined_df, df], ignore_index=True)\n",
      "C:\\Users\\Sadie\\AppData\\Local\\Temp\\ipykernel_28020\\1308180229.py:30: FutureWarning: The behavior of DataFrame concatenation with empty or all-NA entries is deprecated. In a future version, this will no longer exclude empty or all-NA columns when determining the result dtypes. To retain the old behavior, exclude the relevant entries before the concat operation.\n",
      "  combined_df = pd.concat([combined_df, df], ignore_index=True)\n",
      "C:\\Users\\Sadie\\AppData\\Local\\Temp\\ipykernel_28020\\1308180229.py:30: FutureWarning: The behavior of DataFrame concatenation with empty or all-NA entries is deprecated. In a future version, this will no longer exclude empty or all-NA columns when determining the result dtypes. To retain the old behavior, exclude the relevant entries before the concat operation.\n",
      "  combined_df = pd.concat([combined_df, df], ignore_index=True)\n",
      "C:\\Users\\Sadie\\AppData\\Local\\Temp\\ipykernel_28020\\1308180229.py:30: FutureWarning: The behavior of DataFrame concatenation with empty or all-NA entries is deprecated. In a future version, this will no longer exclude empty or all-NA columns when determining the result dtypes. To retain the old behavior, exclude the relevant entries before the concat operation.\n",
      "  combined_df = pd.concat([combined_df, df], ignore_index=True)\n",
      "C:\\Users\\Sadie\\AppData\\Local\\Temp\\ipykernel_28020\\1308180229.py:30: FutureWarning: The behavior of DataFrame concatenation with empty or all-NA entries is deprecated. In a future version, this will no longer exclude empty or all-NA columns when determining the result dtypes. To retain the old behavior, exclude the relevant entries before the concat operation.\n",
      "  combined_df = pd.concat([combined_df, df], ignore_index=True)\n"
     ]
    }
   ],
   "source": [
    "# Example usage with multiple patterns\n",
    "test_folder = os.path.join(data_folder, 'test')\n",
    "test = combine_csv_files(data_folder, test_folder, file_patterns)\n"
   ]
  },
  {
   "cell_type": "code",
   "execution_count": 6,
   "metadata": {},
   "outputs": [
    {
     "data": {
      "text/html": [
       "<div>\n",
       "<style scoped>\n",
       "    .dataframe tbody tr th:only-of-type {\n",
       "        vertical-align: middle;\n",
       "    }\n",
       "\n",
       "    .dataframe tbody tr th {\n",
       "        vertical-align: top;\n",
       "    }\n",
       "\n",
       "    .dataframe thead th {\n",
       "        text-align: right;\n",
       "    }\n",
       "</style>\n",
       "<table border=\"1\" class=\"dataframe\">\n",
       "  <thead>\n",
       "    <tr style=\"text-align: right;\">\n",
       "      <th></th>\n",
       "      <th>MACHINE_ID</th>\n",
       "      <th>MACHINE_DATA</th>\n",
       "      <th>TIMESTAMP</th>\n",
       "      <th>WAFER_ID</th>\n",
       "      <th>STAGE</th>\n",
       "      <th>CHAMBER</th>\n",
       "      <th>USAGE_OF_BACKING_FILM</th>\n",
       "      <th>USAGE_OF_DRESSER</th>\n",
       "      <th>USAGE_OF_POLISHING_TABLE</th>\n",
       "      <th>USAGE_OF_DRESSER_TABLE</th>\n",
       "      <th>...</th>\n",
       "      <th>USAGE_OF_MEMBRANE</th>\n",
       "      <th>USAGE_OF_PRESSURIZED_SHEET</th>\n",
       "      <th>SLURRY_FLOW_LINE_A</th>\n",
       "      <th>SLURRY_FLOW_LINE_B</th>\n",
       "      <th>SLURRY_FLOW_LINE_C</th>\n",
       "      <th>WAFER_ROTATION</th>\n",
       "      <th>STAGE_ROTATION</th>\n",
       "      <th>HEAD_ROTATION</th>\n",
       "      <th>DRESSING_WATER_STATUS</th>\n",
       "      <th>EDGE_AIR_BAG_PRESSURE</th>\n",
       "    </tr>\n",
       "  </thead>\n",
       "  <tbody>\n",
       "    <tr>\n",
       "      <th>0</th>\n",
       "      <td>2</td>\n",
       "      <td>4</td>\n",
       "      <td>4.816382e+08</td>\n",
       "      <td>-2697400572</td>\n",
       "      <td>B</td>\n",
       "      <td>4.0</td>\n",
       "      <td>9333.333333</td>\n",
       "      <td>535.185185</td>\n",
       "      <td>320.0</td>\n",
       "      <td>2667.0</td>\n",
       "      <td>...</td>\n",
       "      <td>110.671937</td>\n",
       "      <td>2800.0</td>\n",
       "      <td>2.222222</td>\n",
       "      <td>0.909091</td>\n",
       "      <td>0.0</td>\n",
       "      <td>0.0</td>\n",
       "      <td>0.0</td>\n",
       "      <td>160.0</td>\n",
       "      <td>1.0</td>\n",
       "      <td>0.0</td>\n",
       "    </tr>\n",
       "    <tr>\n",
       "      <th>1</th>\n",
       "      <td>2</td>\n",
       "      <td>4</td>\n",
       "      <td>4.816382e+08</td>\n",
       "      <td>-2697400572</td>\n",
       "      <td>B</td>\n",
       "      <td>4.0</td>\n",
       "      <td>9333.333333</td>\n",
       "      <td>535.185185</td>\n",
       "      <td>320.0</td>\n",
       "      <td>2667.0</td>\n",
       "      <td>...</td>\n",
       "      <td>110.671937</td>\n",
       "      <td>2800.0</td>\n",
       "      <td>2.222222</td>\n",
       "      <td>0.909091</td>\n",
       "      <td>0.0</td>\n",
       "      <td>0.0</td>\n",
       "      <td>0.0</td>\n",
       "      <td>160.0</td>\n",
       "      <td>1.0</td>\n",
       "      <td>0.0</td>\n",
       "    </tr>\n",
       "    <tr>\n",
       "      <th>2</th>\n",
       "      <td>2</td>\n",
       "      <td>4</td>\n",
       "      <td>4.816382e+08</td>\n",
       "      <td>-2697400572</td>\n",
       "      <td>B</td>\n",
       "      <td>4.0</td>\n",
       "      <td>9333.333333</td>\n",
       "      <td>535.185185</td>\n",
       "      <td>320.0</td>\n",
       "      <td>2667.0</td>\n",
       "      <td>...</td>\n",
       "      <td>110.671937</td>\n",
       "      <td>2800.0</td>\n",
       "      <td>3.888889</td>\n",
       "      <td>0.909091</td>\n",
       "      <td>72.8</td>\n",
       "      <td>0.0</td>\n",
       "      <td>0.0</td>\n",
       "      <td>160.0</td>\n",
       "      <td>1.0</td>\n",
       "      <td>0.0</td>\n",
       "    </tr>\n",
       "    <tr>\n",
       "      <th>3</th>\n",
       "      <td>2</td>\n",
       "      <td>4</td>\n",
       "      <td>4.816382e+08</td>\n",
       "      <td>-2697400572</td>\n",
       "      <td>B</td>\n",
       "      <td>4.0</td>\n",
       "      <td>9333.333333</td>\n",
       "      <td>535.185185</td>\n",
       "      <td>320.0</td>\n",
       "      <td>2667.0</td>\n",
       "      <td>...</td>\n",
       "      <td>110.671937</td>\n",
       "      <td>2800.0</td>\n",
       "      <td>14.027778</td>\n",
       "      <td>0.909091</td>\n",
       "      <td>235.2</td>\n",
       "      <td>0.0</td>\n",
       "      <td>0.0</td>\n",
       "      <td>160.0</td>\n",
       "      <td>1.0</td>\n",
       "      <td>0.0</td>\n",
       "    </tr>\n",
       "    <tr>\n",
       "      <th>4</th>\n",
       "      <td>2</td>\n",
       "      <td>4</td>\n",
       "      <td>4.816382e+08</td>\n",
       "      <td>-2697400572</td>\n",
       "      <td>B</td>\n",
       "      <td>4.0</td>\n",
       "      <td>9333.333333</td>\n",
       "      <td>535.185185</td>\n",
       "      <td>320.0</td>\n",
       "      <td>2667.0</td>\n",
       "      <td>...</td>\n",
       "      <td>110.671937</td>\n",
       "      <td>2800.0</td>\n",
       "      <td>17.083333</td>\n",
       "      <td>0.909091</td>\n",
       "      <td>305.2</td>\n",
       "      <td>0.0</td>\n",
       "      <td>0.0</td>\n",
       "      <td>156.8</td>\n",
       "      <td>1.0</td>\n",
       "      <td>0.0</td>\n",
       "    </tr>\n",
       "  </tbody>\n",
       "</table>\n",
       "<p>5 rows × 25 columns</p>\n",
       "</div>"
      ],
      "text/plain": [
       "  MACHINE_ID MACHINE_DATA     TIMESTAMP     WAFER_ID STAGE  CHAMBER  \\\n",
       "0          2            4  4.816382e+08  -2697400572     B      4.0   \n",
       "1          2            4  4.816382e+08  -2697400572     B      4.0   \n",
       "2          2            4  4.816382e+08  -2697400572     B      4.0   \n",
       "3          2            4  4.816382e+08  -2697400572     B      4.0   \n",
       "4          2            4  4.816382e+08  -2697400572     B      4.0   \n",
       "\n",
       "   USAGE_OF_BACKING_FILM  USAGE_OF_DRESSER  USAGE_OF_POLISHING_TABLE  \\\n",
       "0            9333.333333        535.185185                     320.0   \n",
       "1            9333.333333        535.185185                     320.0   \n",
       "2            9333.333333        535.185185                     320.0   \n",
       "3            9333.333333        535.185185                     320.0   \n",
       "4            9333.333333        535.185185                     320.0   \n",
       "\n",
       "   USAGE_OF_DRESSER_TABLE  ...  USAGE_OF_MEMBRANE  USAGE_OF_PRESSURIZED_SHEET  \\\n",
       "0                  2667.0  ...         110.671937                      2800.0   \n",
       "1                  2667.0  ...         110.671937                      2800.0   \n",
       "2                  2667.0  ...         110.671937                      2800.0   \n",
       "3                  2667.0  ...         110.671937                      2800.0   \n",
       "4                  2667.0  ...         110.671937                      2800.0   \n",
       "\n",
       "   SLURRY_FLOW_LINE_A  SLURRY_FLOW_LINE_B  SLURRY_FLOW_LINE_C  WAFER_ROTATION  \\\n",
       "0            2.222222            0.909091                 0.0             0.0   \n",
       "1            2.222222            0.909091                 0.0             0.0   \n",
       "2            3.888889            0.909091                72.8             0.0   \n",
       "3           14.027778            0.909091               235.2             0.0   \n",
       "4           17.083333            0.909091               305.2             0.0   \n",
       "\n",
       "   STAGE_ROTATION  HEAD_ROTATION  DRESSING_WATER_STATUS  EDGE_AIR_BAG_PRESSURE  \n",
       "0             0.0          160.0                    1.0                    0.0  \n",
       "1             0.0          160.0                    1.0                    0.0  \n",
       "2             0.0          160.0                    1.0                    0.0  \n",
       "3             0.0          160.0                    1.0                    0.0  \n",
       "4             0.0          156.8                    1.0                    0.0  \n",
       "\n",
       "[5 rows x 25 columns]"
      ]
     },
     "execution_count": 6,
     "metadata": {},
     "output_type": "execute_result"
    }
   ],
   "source": [
    "validation.head()"
   ]
  },
  {
   "cell_type": "code",
   "execution_count": 7,
   "metadata": {},
   "outputs": [
    {
     "data": {
      "text/plain": [
       "(144148, 25)"
      ]
     },
     "execution_count": 7,
     "metadata": {},
     "output_type": "execute_result"
    }
   ],
   "source": [
    "validation.shape"
   ]
  },
  {
   "cell_type": "code",
   "execution_count": 8,
   "metadata": {},
   "outputs": [
    {
     "data": {
      "text/plain": [
       "(672744, 25)"
      ]
     },
     "execution_count": 8,
     "metadata": {},
     "output_type": "execute_result"
    }
   ],
   "source": [
    "training.shape"
   ]
  },
  {
   "cell_type": "code",
   "execution_count": 9,
   "metadata": {},
   "outputs": [
    {
     "data": {
      "text/plain": [
       "(156262, 25)"
      ]
     },
     "execution_count": 9,
     "metadata": {},
     "output_type": "execute_result"
    }
   ],
   "source": [
    "test.shape"
   ]
  },
  {
   "cell_type": "code",
   "execution_count": 10,
   "metadata": {},
   "outputs": [
    {
     "data": {
      "text/plain": [
       "MACHINE_ID                       object\n",
       "MACHINE_DATA                     object\n",
       "TIMESTAMP                       float64\n",
       "WAFER_ID                         object\n",
       "STAGE                            object\n",
       "CHAMBER                         float64\n",
       "USAGE_OF_BACKING_FILM           float64\n",
       "USAGE_OF_DRESSER                float64\n",
       "USAGE_OF_POLISHING_TABLE        float64\n",
       "USAGE_OF_DRESSER_TABLE          float64\n",
       "PRESSURIZED_CHAMBER_PRESSURE    float64\n",
       "MAIN_OUTER_AIR_BAG_PRESSURE     float64\n",
       "CENTER_AIR_BAG_PRESSURE         float64\n",
       "RETAINER_RING_PRESSURE          float64\n",
       "RIPPLE_AIR_BAG_PRESSURE         float64\n",
       "USAGE_OF_MEMBRANE               float64\n",
       "USAGE_OF_PRESSURIZED_SHEET      float64\n",
       "SLURRY_FLOW_LINE_A              float64\n",
       "SLURRY_FLOW_LINE_B              float64\n",
       "SLURRY_FLOW_LINE_C              float64\n",
       "WAFER_ROTATION                  float64\n",
       "STAGE_ROTATION                  float64\n",
       "HEAD_ROTATION                   float64\n",
       "DRESSING_WATER_STATUS           float64\n",
       "EDGE_AIR_BAG_PRESSURE           float64\n",
       "dtype: object"
      ]
     },
     "execution_count": 10,
     "metadata": {},
     "output_type": "execute_result"
    }
   ],
   "source": [
    "training.dtypes"
   ]
  },
  {
   "cell_type": "code",
   "execution_count": 11,
   "metadata": {},
   "outputs": [
    {
     "data": {
      "text/html": [
       "<div>\n",
       "<style scoped>\n",
       "    .dataframe tbody tr th:only-of-type {\n",
       "        vertical-align: middle;\n",
       "    }\n",
       "\n",
       "    .dataframe tbody tr th {\n",
       "        vertical-align: top;\n",
       "    }\n",
       "\n",
       "    .dataframe thead th {\n",
       "        text-align: right;\n",
       "    }\n",
       "</style>\n",
       "<table border=\"1\" class=\"dataframe\">\n",
       "  <thead>\n",
       "    <tr style=\"text-align: right;\">\n",
       "      <th></th>\n",
       "      <th>TIMESTAMP</th>\n",
       "      <th>CHAMBER</th>\n",
       "      <th>USAGE_OF_BACKING_FILM</th>\n",
       "      <th>USAGE_OF_DRESSER</th>\n",
       "      <th>USAGE_OF_POLISHING_TABLE</th>\n",
       "      <th>USAGE_OF_DRESSER_TABLE</th>\n",
       "      <th>PRESSURIZED_CHAMBER_PRESSURE</th>\n",
       "      <th>MAIN_OUTER_AIR_BAG_PRESSURE</th>\n",
       "      <th>CENTER_AIR_BAG_PRESSURE</th>\n",
       "      <th>RETAINER_RING_PRESSURE</th>\n",
       "      <th>...</th>\n",
       "      <th>USAGE_OF_MEMBRANE</th>\n",
       "      <th>USAGE_OF_PRESSURIZED_SHEET</th>\n",
       "      <th>SLURRY_FLOW_LINE_A</th>\n",
       "      <th>SLURRY_FLOW_LINE_B</th>\n",
       "      <th>SLURRY_FLOW_LINE_C</th>\n",
       "      <th>WAFER_ROTATION</th>\n",
       "      <th>STAGE_ROTATION</th>\n",
       "      <th>HEAD_ROTATION</th>\n",
       "      <th>DRESSING_WATER_STATUS</th>\n",
       "      <th>EDGE_AIR_BAG_PRESSURE</th>\n",
       "    </tr>\n",
       "  </thead>\n",
       "  <tbody>\n",
       "    <tr>\n",
       "      <th>count</th>\n",
       "      <td>6.727440e+05</td>\n",
       "      <td>672744.000000</td>\n",
       "      <td>672744.000000</td>\n",
       "      <td>672744.000000</td>\n",
       "      <td>672744.000000</td>\n",
       "      <td>672744.000000</td>\n",
       "      <td>672744.000000</td>\n",
       "      <td>672744.000000</td>\n",
       "      <td>672744.000000</td>\n",
       "      <td>672744.000000</td>\n",
       "      <td>...</td>\n",
       "      <td>672744.000000</td>\n",
       "      <td>672744.000000</td>\n",
       "      <td>672744.000000</td>\n",
       "      <td>672744.000000</td>\n",
       "      <td>672744.000000</td>\n",
       "      <td>672744.000000</td>\n",
       "      <td>672744.000000</td>\n",
       "      <td>672744.000000</td>\n",
       "      <td>672744.000000</td>\n",
       "      <td>672744.000000</td>\n",
       "    </tr>\n",
       "    <tr>\n",
       "      <th>mean</th>\n",
       "      <td>4.844186e+08</td>\n",
       "      <td>4.223673</td>\n",
       "      <td>4968.532485</td>\n",
       "      <td>396.444964</td>\n",
       "      <td>171.983843</td>\n",
       "      <td>3496.348712</td>\n",
       "      <td>49.973427</td>\n",
       "      <td>155.327976</td>\n",
       "      <td>40.147023</td>\n",
       "      <td>1218.777316</td>\n",
       "      <td>...</td>\n",
       "      <td>58.915409</td>\n",
       "      <td>1490.559854</td>\n",
       "      <td>4.245952</td>\n",
       "      <td>0.725417</td>\n",
       "      <td>249.354458</td>\n",
       "      <td>12.802433</td>\n",
       "      <td>52.437560</td>\n",
       "      <td>159.792734</td>\n",
       "      <td>0.424763</td>\n",
       "      <td>28.531700</td>\n",
       "    </tr>\n",
       "    <tr>\n",
       "      <th>std</th>\n",
       "      <td>1.639134e+06</td>\n",
       "      <td>1.333534</td>\n",
       "      <td>2888.628864</td>\n",
       "      <td>219.524524</td>\n",
       "      <td>94.623563</td>\n",
       "      <td>479.742809</td>\n",
       "      <td>39.241073</td>\n",
       "      <td>133.191797</td>\n",
       "      <td>34.240954</td>\n",
       "      <td>1499.216737</td>\n",
       "      <td>...</td>\n",
       "      <td>34.252516</td>\n",
       "      <td>866.588654</td>\n",
       "      <td>6.683546</td>\n",
       "      <td>0.420575</td>\n",
       "      <td>214.034647</td>\n",
       "      <td>16.325427</td>\n",
       "      <td>91.878220</td>\n",
       "      <td>8.889108</td>\n",
       "      <td>0.494307</td>\n",
       "      <td>24.346485</td>\n",
       "    </tr>\n",
       "    <tr>\n",
       "      <th>min</th>\n",
       "      <td>4.816344e+08</td>\n",
       "      <td>1.000000</td>\n",
       "      <td>19.166667</td>\n",
       "      <td>5.185185</td>\n",
       "      <td>0.000000</td>\n",
       "      <td>2664.750000</td>\n",
       "      <td>0.000000</td>\n",
       "      <td>0.000000</td>\n",
       "      <td>0.000000</td>\n",
       "      <td>0.000000</td>\n",
       "      <td>...</td>\n",
       "      <td>0.227273</td>\n",
       "      <td>5.750000</td>\n",
       "      <td>0.000000</td>\n",
       "      <td>0.000000</td>\n",
       "      <td>0.000000</td>\n",
       "      <td>0.000000</td>\n",
       "      <td>0.000000</td>\n",
       "      <td>0.000000</td>\n",
       "      <td>0.000000</td>\n",
       "      <td>0.000000</td>\n",
       "    </tr>\n",
       "    <tr>\n",
       "      <th>25%</th>\n",
       "      <td>4.827736e+08</td>\n",
       "      <td>4.000000</td>\n",
       "      <td>2425.000000</td>\n",
       "      <td>205.185185</td>\n",
       "      <td>88.888889</td>\n",
       "      <td>3041.000000</td>\n",
       "      <td>0.000000</td>\n",
       "      <td>0.000000</td>\n",
       "      <td>0.000000</td>\n",
       "      <td>0.000000</td>\n",
       "      <td>...</td>\n",
       "      <td>28.754941</td>\n",
       "      <td>727.500000</td>\n",
       "      <td>2.222222</td>\n",
       "      <td>0.909091</td>\n",
       "      <td>0.000000</td>\n",
       "      <td>0.000000</td>\n",
       "      <td>0.000000</td>\n",
       "      <td>156.800000</td>\n",
       "      <td>0.000000</td>\n",
       "      <td>0.000000</td>\n",
       "    </tr>\n",
       "    <tr>\n",
       "      <th>50%</th>\n",
       "      <td>4.846534e+08</td>\n",
       "      <td>4.000000</td>\n",
       "      <td>5036.666667</td>\n",
       "      <td>395.925926</td>\n",
       "      <td>172.592593</td>\n",
       "      <td>3544.750000</td>\n",
       "      <td>72.857143</td>\n",
       "      <td>252.000000</td>\n",
       "      <td>61.250000</td>\n",
       "      <td>1446.900000</td>\n",
       "      <td>...</td>\n",
       "      <td>59.723320</td>\n",
       "      <td>1511.000000</td>\n",
       "      <td>2.222222</td>\n",
       "      <td>0.909091</td>\n",
       "      <td>411.600000</td>\n",
       "      <td>0.000000</td>\n",
       "      <td>0.000000</td>\n",
       "      <td>160.000000</td>\n",
       "      <td>0.000000</td>\n",
       "      <td>43.939394</td>\n",
       "    </tr>\n",
       "    <tr>\n",
       "      <th>75%</th>\n",
       "      <td>4.857991e+08</td>\n",
       "      <td>5.000000</td>\n",
       "      <td>7322.500000</td>\n",
       "      <td>590.370370</td>\n",
       "      <td>254.074074</td>\n",
       "      <td>3912.000000</td>\n",
       "      <td>77.142857</td>\n",
       "      <td>268.800000</td>\n",
       "      <td>66.250000</td>\n",
       "      <td>1454.700000</td>\n",
       "      <td>...</td>\n",
       "      <td>86.828063</td>\n",
       "      <td>2196.750000</td>\n",
       "      <td>2.222222</td>\n",
       "      <td>0.909091</td>\n",
       "      <td>439.600000</td>\n",
       "      <td>34.651163</td>\n",
       "      <td>65.526316</td>\n",
       "      <td>160.000000</td>\n",
       "      <td>1.000000</td>\n",
       "      <td>48.484848</td>\n",
       "    </tr>\n",
       "    <tr>\n",
       "      <th>max</th>\n",
       "      <td>4.872682e+08</td>\n",
       "      <td>6.000000</td>\n",
       "      <td>10532.500000</td>\n",
       "      <td>771.851852</td>\n",
       "      <td>357.037037</td>\n",
       "      <td>4305.500000</td>\n",
       "      <td>189.047619</td>\n",
       "      <td>499.200000</td>\n",
       "      <td>139.375000</td>\n",
       "      <td>10662.600000</td>\n",
       "      <td>...</td>\n",
       "      <td>124.891304</td>\n",
       "      <td>3159.750000</td>\n",
       "      <td>42.638889</td>\n",
       "      <td>12.500000</td>\n",
       "      <td>1083.600000</td>\n",
       "      <td>34.883721</td>\n",
       "      <td>263.552632</td>\n",
       "      <td>192.000000</td>\n",
       "      <td>1.000000</td>\n",
       "      <td>141.515152</td>\n",
       "    </tr>\n",
       "  </tbody>\n",
       "</table>\n",
       "<p>8 rows × 21 columns</p>\n",
       "</div>"
      ],
      "text/plain": [
       "          TIMESTAMP        CHAMBER  USAGE_OF_BACKING_FILM  USAGE_OF_DRESSER  \\\n",
       "count  6.727440e+05  672744.000000          672744.000000     672744.000000   \n",
       "mean   4.844186e+08       4.223673            4968.532485        396.444964   \n",
       "std    1.639134e+06       1.333534            2888.628864        219.524524   \n",
       "min    4.816344e+08       1.000000              19.166667          5.185185   \n",
       "25%    4.827736e+08       4.000000            2425.000000        205.185185   \n",
       "50%    4.846534e+08       4.000000            5036.666667        395.925926   \n",
       "75%    4.857991e+08       5.000000            7322.500000        590.370370   \n",
       "max    4.872682e+08       6.000000           10532.500000        771.851852   \n",
       "\n",
       "       USAGE_OF_POLISHING_TABLE  USAGE_OF_DRESSER_TABLE  \\\n",
       "count             672744.000000           672744.000000   \n",
       "mean                 171.983843             3496.348712   \n",
       "std                   94.623563              479.742809   \n",
       "min                    0.000000             2664.750000   \n",
       "25%                   88.888889             3041.000000   \n",
       "50%                  172.592593             3544.750000   \n",
       "75%                  254.074074             3912.000000   \n",
       "max                  357.037037             4305.500000   \n",
       "\n",
       "       PRESSURIZED_CHAMBER_PRESSURE  MAIN_OUTER_AIR_BAG_PRESSURE  \\\n",
       "count                 672744.000000                672744.000000   \n",
       "mean                      49.973427                   155.327976   \n",
       "std                       39.241073                   133.191797   \n",
       "min                        0.000000                     0.000000   \n",
       "25%                        0.000000                     0.000000   \n",
       "50%                       72.857143                   252.000000   \n",
       "75%                       77.142857                   268.800000   \n",
       "max                      189.047619                   499.200000   \n",
       "\n",
       "       CENTER_AIR_BAG_PRESSURE  RETAINER_RING_PRESSURE  ...  \\\n",
       "count            672744.000000           672744.000000  ...   \n",
       "mean                 40.147023             1218.777316  ...   \n",
       "std                  34.240954             1499.216737  ...   \n",
       "min                   0.000000                0.000000  ...   \n",
       "25%                   0.000000                0.000000  ...   \n",
       "50%                  61.250000             1446.900000  ...   \n",
       "75%                  66.250000             1454.700000  ...   \n",
       "max                 139.375000            10662.600000  ...   \n",
       "\n",
       "       USAGE_OF_MEMBRANE  USAGE_OF_PRESSURIZED_SHEET  SLURRY_FLOW_LINE_A  \\\n",
       "count      672744.000000               672744.000000       672744.000000   \n",
       "mean           58.915409                 1490.559854            4.245952   \n",
       "std            34.252516                  866.588654            6.683546   \n",
       "min             0.227273                    5.750000            0.000000   \n",
       "25%            28.754941                  727.500000            2.222222   \n",
       "50%            59.723320                 1511.000000            2.222222   \n",
       "75%            86.828063                 2196.750000            2.222222   \n",
       "max           124.891304                 3159.750000           42.638889   \n",
       "\n",
       "       SLURRY_FLOW_LINE_B  SLURRY_FLOW_LINE_C  WAFER_ROTATION  STAGE_ROTATION  \\\n",
       "count       672744.000000       672744.000000   672744.000000   672744.000000   \n",
       "mean             0.725417          249.354458       12.802433       52.437560   \n",
       "std              0.420575          214.034647       16.325427       91.878220   \n",
       "min              0.000000            0.000000        0.000000        0.000000   \n",
       "25%              0.909091            0.000000        0.000000        0.000000   \n",
       "50%              0.909091          411.600000        0.000000        0.000000   \n",
       "75%              0.909091          439.600000       34.651163       65.526316   \n",
       "max             12.500000         1083.600000       34.883721      263.552632   \n",
       "\n",
       "       HEAD_ROTATION  DRESSING_WATER_STATUS  EDGE_AIR_BAG_PRESSURE  \n",
       "count  672744.000000          672744.000000          672744.000000  \n",
       "mean      159.792734               0.424763              28.531700  \n",
       "std         8.889108               0.494307              24.346485  \n",
       "min         0.000000               0.000000               0.000000  \n",
       "25%       156.800000               0.000000               0.000000  \n",
       "50%       160.000000               0.000000              43.939394  \n",
       "75%       160.000000               1.000000              48.484848  \n",
       "max       192.000000               1.000000             141.515152  \n",
       "\n",
       "[8 rows x 21 columns]"
      ]
     },
     "execution_count": 11,
     "metadata": {},
     "output_type": "execute_result"
    }
   ],
   "source": [
    "training.describe()"
   ]
  },
  {
   "cell_type": "code",
   "execution_count": 12,
   "metadata": {},
   "outputs": [
    {
     "data": {
      "text/plain": [
       "(672744, 25)"
      ]
     },
     "execution_count": 12,
     "metadata": {},
     "output_type": "execute_result"
    }
   ],
   "source": [
    "training.shape"
   ]
  },
  {
   "cell_type": "code",
   "execution_count": 13,
   "metadata": {},
   "outputs": [],
   "source": [
    "unique_ids = training[\"WAFER_ID\"].unique()\n"
   ]
  },
  {
   "cell_type": "code",
   "execution_count": 14,
   "metadata": {},
   "outputs": [
    {
     "data": {
      "text/plain": [
       "(286, 25)"
      ]
     },
     "execution_count": 14,
     "metadata": {},
     "output_type": "execute_result"
    }
   ],
   "source": [
    "wafer = unique_ids[0]\n",
    "wafer_data = training[training[\"WAFER_ID\"]==wafer]\n",
    "wafer_data.shape"
   ]
  },
  {
   "cell_type": "code",
   "execution_count": 15,
   "metadata": {},
   "outputs": [
    {
     "data": {
      "text/html": [
       "<div>\n",
       "<style scoped>\n",
       "    .dataframe tbody tr th:only-of-type {\n",
       "        vertical-align: middle;\n",
       "    }\n",
       "\n",
       "    .dataframe tbody tr th {\n",
       "        vertical-align: top;\n",
       "    }\n",
       "\n",
       "    .dataframe thead th {\n",
       "        text-align: right;\n",
       "    }\n",
       "</style>\n",
       "<table border=\"1\" class=\"dataframe\">\n",
       "  <thead>\n",
       "    <tr style=\"text-align: right;\">\n",
       "      <th></th>\n",
       "      <th>MACHINE_ID</th>\n",
       "      <th>MACHINE_DATA</th>\n",
       "      <th>TIMESTAMP</th>\n",
       "      <th>WAFER_ID</th>\n",
       "      <th>STAGE</th>\n",
       "      <th>CHAMBER</th>\n",
       "      <th>USAGE_OF_BACKING_FILM</th>\n",
       "      <th>USAGE_OF_DRESSER</th>\n",
       "      <th>USAGE_OF_POLISHING_TABLE</th>\n",
       "      <th>USAGE_OF_DRESSER_TABLE</th>\n",
       "      <th>...</th>\n",
       "      <th>USAGE_OF_MEMBRANE</th>\n",
       "      <th>USAGE_OF_PRESSURIZED_SHEET</th>\n",
       "      <th>SLURRY_FLOW_LINE_A</th>\n",
       "      <th>SLURRY_FLOW_LINE_B</th>\n",
       "      <th>SLURRY_FLOW_LINE_C</th>\n",
       "      <th>WAFER_ROTATION</th>\n",
       "      <th>STAGE_ROTATION</th>\n",
       "      <th>HEAD_ROTATION</th>\n",
       "      <th>DRESSING_WATER_STATUS</th>\n",
       "      <th>EDGE_AIR_BAG_PRESSURE</th>\n",
       "    </tr>\n",
       "  </thead>\n",
       "  <tbody>\n",
       "    <tr>\n",
       "      <th>0</th>\n",
       "      <td>2</td>\n",
       "      <td>1</td>\n",
       "      <td>4.816371e+08</td>\n",
       "      <td>371447024</td>\n",
       "      <td>A</td>\n",
       "      <td>1.0</td>\n",
       "      <td>9302.5</td>\n",
       "      <td>534.074074</td>\n",
       "      <td>292.592593</td>\n",
       "      <td>2666.25</td>\n",
       "      <td>...</td>\n",
       "      <td>110.306324</td>\n",
       "      <td>2790.75</td>\n",
       "      <td>2.222222</td>\n",
       "      <td>0.909091</td>\n",
       "      <td>565.6</td>\n",
       "      <td>34.651163</td>\n",
       "      <td>0.0</td>\n",
       "      <td>156.8</td>\n",
       "      <td>1.0</td>\n",
       "      <td>60.909091</td>\n",
       "    </tr>\n",
       "    <tr>\n",
       "      <th>1</th>\n",
       "      <td>2</td>\n",
       "      <td>1</td>\n",
       "      <td>4.816371e+08</td>\n",
       "      <td>371447024</td>\n",
       "      <td>A</td>\n",
       "      <td>1.0</td>\n",
       "      <td>9302.5</td>\n",
       "      <td>534.074074</td>\n",
       "      <td>292.592593</td>\n",
       "      <td>2666.25</td>\n",
       "      <td>...</td>\n",
       "      <td>110.306324</td>\n",
       "      <td>2790.75</td>\n",
       "      <td>2.222222</td>\n",
       "      <td>0.909091</td>\n",
       "      <td>568.4</td>\n",
       "      <td>34.651163</td>\n",
       "      <td>0.0</td>\n",
       "      <td>156.8</td>\n",
       "      <td>1.0</td>\n",
       "      <td>60.909091</td>\n",
       "    </tr>\n",
       "    <tr>\n",
       "      <th>2</th>\n",
       "      <td>2</td>\n",
       "      <td>1</td>\n",
       "      <td>4.816371e+08</td>\n",
       "      <td>371447024</td>\n",
       "      <td>A</td>\n",
       "      <td>1.0</td>\n",
       "      <td>9302.5</td>\n",
       "      <td>534.074074</td>\n",
       "      <td>292.592593</td>\n",
       "      <td>2666.25</td>\n",
       "      <td>...</td>\n",
       "      <td>110.306324</td>\n",
       "      <td>2790.75</td>\n",
       "      <td>2.222222</td>\n",
       "      <td>0.909091</td>\n",
       "      <td>568.4</td>\n",
       "      <td>34.651163</td>\n",
       "      <td>0.0</td>\n",
       "      <td>156.8</td>\n",
       "      <td>1.0</td>\n",
       "      <td>60.909091</td>\n",
       "    </tr>\n",
       "    <tr>\n",
       "      <th>3</th>\n",
       "      <td>2</td>\n",
       "      <td>1</td>\n",
       "      <td>4.816371e+08</td>\n",
       "      <td>371447024</td>\n",
       "      <td>A</td>\n",
       "      <td>1.0</td>\n",
       "      <td>9302.5</td>\n",
       "      <td>534.074074</td>\n",
       "      <td>292.592593</td>\n",
       "      <td>2666.25</td>\n",
       "      <td>...</td>\n",
       "      <td>110.306324</td>\n",
       "      <td>2790.75</td>\n",
       "      <td>2.222222</td>\n",
       "      <td>0.909091</td>\n",
       "      <td>568.4</td>\n",
       "      <td>34.651163</td>\n",
       "      <td>0.0</td>\n",
       "      <td>156.8</td>\n",
       "      <td>1.0</td>\n",
       "      <td>60.606061</td>\n",
       "    </tr>\n",
       "    <tr>\n",
       "      <th>4</th>\n",
       "      <td>2</td>\n",
       "      <td>1</td>\n",
       "      <td>4.816371e+08</td>\n",
       "      <td>371447024</td>\n",
       "      <td>A</td>\n",
       "      <td>1.0</td>\n",
       "      <td>9302.5</td>\n",
       "      <td>534.074074</td>\n",
       "      <td>292.592593</td>\n",
       "      <td>2666.25</td>\n",
       "      <td>...</td>\n",
       "      <td>110.306324</td>\n",
       "      <td>2790.75</td>\n",
       "      <td>2.222222</td>\n",
       "      <td>0.909091</td>\n",
       "      <td>571.2</td>\n",
       "      <td>34.651163</td>\n",
       "      <td>0.0</td>\n",
       "      <td>156.8</td>\n",
       "      <td>1.0</td>\n",
       "      <td>60.909091</td>\n",
       "    </tr>\n",
       "  </tbody>\n",
       "</table>\n",
       "<p>5 rows × 25 columns</p>\n",
       "</div>"
      ],
      "text/plain": [
       "  MACHINE_ID MACHINE_DATA     TIMESTAMP   WAFER_ID STAGE  CHAMBER  \\\n",
       "0          2            1  4.816371e+08  371447024     A      1.0   \n",
       "1          2            1  4.816371e+08  371447024     A      1.0   \n",
       "2          2            1  4.816371e+08  371447024     A      1.0   \n",
       "3          2            1  4.816371e+08  371447024     A      1.0   \n",
       "4          2            1  4.816371e+08  371447024     A      1.0   \n",
       "\n",
       "   USAGE_OF_BACKING_FILM  USAGE_OF_DRESSER  USAGE_OF_POLISHING_TABLE  \\\n",
       "0                 9302.5        534.074074                292.592593   \n",
       "1                 9302.5        534.074074                292.592593   \n",
       "2                 9302.5        534.074074                292.592593   \n",
       "3                 9302.5        534.074074                292.592593   \n",
       "4                 9302.5        534.074074                292.592593   \n",
       "\n",
       "   USAGE_OF_DRESSER_TABLE  ...  USAGE_OF_MEMBRANE  USAGE_OF_PRESSURIZED_SHEET  \\\n",
       "0                 2666.25  ...         110.306324                     2790.75   \n",
       "1                 2666.25  ...         110.306324                     2790.75   \n",
       "2                 2666.25  ...         110.306324                     2790.75   \n",
       "3                 2666.25  ...         110.306324                     2790.75   \n",
       "4                 2666.25  ...         110.306324                     2790.75   \n",
       "\n",
       "   SLURRY_FLOW_LINE_A  SLURRY_FLOW_LINE_B  SLURRY_FLOW_LINE_C  WAFER_ROTATION  \\\n",
       "0            2.222222            0.909091               565.6       34.651163   \n",
       "1            2.222222            0.909091               568.4       34.651163   \n",
       "2            2.222222            0.909091               568.4       34.651163   \n",
       "3            2.222222            0.909091               568.4       34.651163   \n",
       "4            2.222222            0.909091               571.2       34.651163   \n",
       "\n",
       "   STAGE_ROTATION  HEAD_ROTATION  DRESSING_WATER_STATUS  EDGE_AIR_BAG_PRESSURE  \n",
       "0             0.0          156.8                    1.0              60.909091  \n",
       "1             0.0          156.8                    1.0              60.909091  \n",
       "2             0.0          156.8                    1.0              60.909091  \n",
       "3             0.0          156.8                    1.0              60.606061  \n",
       "4             0.0          156.8                    1.0              60.909091  \n",
       "\n",
       "[5 rows x 25 columns]"
      ]
     },
     "execution_count": 15,
     "metadata": {},
     "output_type": "execute_result"
    }
   ],
   "source": [
    "wafer_data.head()\n",
    "\n"
   ]
  },
  {
   "cell_type": "code",
   "execution_count": 16,
   "metadata": {},
   "outputs": [
    {
     "name": "stdout",
     "output_type": "stream",
     "text": [
      "Empty DataFrame\n",
      "Columns: [WAFER_ID]\n",
      "Index: []\n"
     ]
    }
   ],
   "source": [
    "wafer_extracted_data = pd.DataFrame()\n",
    "wafer_extracted_data['WAFER_ID'] = wafer\n",
    "\n",
    "print(wafer_extracted_data.head())"
   ]
  },
  {
   "cell_type": "code",
   "execution_count": 17,
   "metadata": {},
   "outputs": [],
   "source": [
    "def extract_features(data: pd.DataFrame,\n",
    "                     id_column: str= 'WAFER_ID',\n",
    "                     non_extracted_columns: list = [\"TIMESTAMP\", \"WAFER_ID\", \"CHAMBER\"]):\n",
    "    # sourcery skip: default-mutable-arg, dict-assign-update-to-union, inline-immediately-returned-variable\n",
    "    unique_ids = data[id_column].unique()\n",
    "\n",
    "    \n",
    "    data_rows = []\n",
    "    \n",
    "    for wafer in unique_ids:\n",
    "        wafer_data = data[data[\"WAFER_ID\"]==wafer]\n",
    "        # Iterate through each numerical column and calculate the features using numpy\n",
    "        features_np = {}\n",
    "        for column in wafer_data.select_dtypes(include='number').columns:\n",
    "            if column in non_extracted_columns:\n",
    "                continue\n",
    "            col_data = wafer_data[column].values  # Convert the column to a numpy array\n",
    "            features_np.update({\n",
    "                f'{column}_Mean': np.mean(col_data),\n",
    "                f'{column}_Median': np.median(col_data),\n",
    "                f'{column}_StdDev': np.std(col_data, ddof=1),  # ddof=1 for sample standard deviation\n",
    "                f'{column}_Variance': np.var(col_data, ddof=1),  # ddof=1 for sample variance\n",
    "                f'{column}_Minimum': np.min(col_data),\n",
    "                f'{column}_Maximum': np.max(col_data),\n",
    "                f'{column}_Range': np.ptp(col_data),  # Peak-to-peak is a simpler way to compute range\n",
    "                f'{column}_Skewness': pd.Series(col_data).skew(),  # Using pandas for skew as numpy does not have a direct function\n",
    "                f'{column}_Kurtosis': pd.Series(col_data).kurt(),  # Using pandas for kurtosis as numpy does not have a direct function\n",
    "                f'{column}_25thPercentile': np.percentile(col_data, 25),\n",
    "                f'{column}_50thPercentile': np.percentile(col_data, 50),\n",
    "                f'{column}_75thPercentile': np.percentile(col_data, 75)\n",
    "            })\n",
    "\n",
    "        # Convert the features dictionary to a DataFrame\n",
    "        # Since we want all features in one row, we use pd.DataFrame and specify the index [0]\n",
    "        feature_df = pd.DataFrame([features_np])\n",
    "        feature_df.insert(0, \"WAFER_ID\", wafer)\n",
    "        feature_df.insert(1, \"STAGE\", np.unique(wafer_data[\"STAGE\"])[0])\n",
    "        feature_df.insert(2, \"CHAMBER\", np.unique(wafer_data[\"CHAMBER\"])[0])\n",
    "\n",
    "        data_rows.append(feature_df)\n",
    "    \n",
    "    extracted_data = pd.concat(data_rows)\n",
    "    return extracted_data"
   ]
  },
  {
   "cell_type": "code",
   "execution_count": 18,
   "metadata": {},
   "outputs": [],
   "source": [
    "training_set = extract_features(training)\n"
   ]
  },
  {
   "cell_type": "code",
   "execution_count": 19,
   "metadata": {},
   "outputs": [],
   "source": [
    "validation_set = extract_features(validation)"
   ]
  },
  {
   "cell_type": "code",
   "execution_count": 20,
   "metadata": {},
   "outputs": [],
   "source": [
    "test_set = extract_features(test)"
   ]
  },
  {
   "cell_type": "code",
   "execution_count": 21,
   "metadata": {},
   "outputs": [],
   "source": [
    "del training, validation, test"
   ]
  },
  {
   "cell_type": "code",
   "execution_count": 22,
   "metadata": {},
   "outputs": [
    {
     "data": {
      "text/html": [
       "<div>\n",
       "<style scoped>\n",
       "    .dataframe tbody tr th:only-of-type {\n",
       "        vertical-align: middle;\n",
       "    }\n",
       "\n",
       "    .dataframe tbody tr th {\n",
       "        vertical-align: top;\n",
       "    }\n",
       "\n",
       "    .dataframe thead th {\n",
       "        text-align: right;\n",
       "    }\n",
       "</style>\n",
       "<table border=\"1\" class=\"dataframe\">\n",
       "  <thead>\n",
       "    <tr style=\"text-align: right;\">\n",
       "      <th></th>\n",
       "      <th>WAFER_ID</th>\n",
       "      <th>STAGE</th>\n",
       "      <th>CHAMBER</th>\n",
       "      <th>USAGE_OF_BACKING_FILM_Mean</th>\n",
       "      <th>USAGE_OF_BACKING_FILM_Median</th>\n",
       "      <th>USAGE_OF_BACKING_FILM_StdDev</th>\n",
       "      <th>USAGE_OF_BACKING_FILM_Variance</th>\n",
       "      <th>USAGE_OF_BACKING_FILM_Minimum</th>\n",
       "      <th>USAGE_OF_BACKING_FILM_Maximum</th>\n",
       "      <th>USAGE_OF_BACKING_FILM_Range</th>\n",
       "      <th>...</th>\n",
       "      <th>EDGE_AIR_BAG_PRESSURE_StdDev</th>\n",
       "      <th>EDGE_AIR_BAG_PRESSURE_Variance</th>\n",
       "      <th>EDGE_AIR_BAG_PRESSURE_Minimum</th>\n",
       "      <th>EDGE_AIR_BAG_PRESSURE_Maximum</th>\n",
       "      <th>EDGE_AIR_BAG_PRESSURE_Range</th>\n",
       "      <th>EDGE_AIR_BAG_PRESSURE_Skewness</th>\n",
       "      <th>EDGE_AIR_BAG_PRESSURE_Kurtosis</th>\n",
       "      <th>EDGE_AIR_BAG_PRESSURE_25thPercentile</th>\n",
       "      <th>EDGE_AIR_BAG_PRESSURE_50thPercentile</th>\n",
       "      <th>EDGE_AIR_BAG_PRESSURE_75thPercentile</th>\n",
       "    </tr>\n",
       "  </thead>\n",
       "  <tbody>\n",
       "    <tr>\n",
       "      <th>0</th>\n",
       "      <td>371447024</td>\n",
       "      <td>A</td>\n",
       "      <td>1.0</td>\n",
       "      <td>9307.651515</td>\n",
       "      <td>9307.500000</td>\n",
       "      <td>3.083687e+00</td>\n",
       "      <td>9.509126e+00</td>\n",
       "      <td>9302.500000</td>\n",
       "      <td>9313.333333</td>\n",
       "      <td>10.833333</td>\n",
       "      <td>...</td>\n",
       "      <td>19.533075</td>\n",
       "      <td>381.541027</td>\n",
       "      <td>0.0</td>\n",
       "      <td>60.909091</td>\n",
       "      <td>60.909091</td>\n",
       "      <td>-2.039952</td>\n",
       "      <td>2.612346</td>\n",
       "      <td>48.787879</td>\n",
       "      <td>60.606061</td>\n",
       "      <td>60.909091</td>\n",
       "    </tr>\n",
       "    <tr>\n",
       "      <th>0</th>\n",
       "      <td>371447028</td>\n",
       "      <td>A</td>\n",
       "      <td>1.0</td>\n",
       "      <td>9356.666667</td>\n",
       "      <td>9356.666667</td>\n",
       "      <td>1.822178e-12</td>\n",
       "      <td>3.320332e-24</td>\n",
       "      <td>9356.666667</td>\n",
       "      <td>9356.666667</td>\n",
       "      <td>0.000000</td>\n",
       "      <td>...</td>\n",
       "      <td>0.000000</td>\n",
       "      <td>0.000000</td>\n",
       "      <td>0.0</td>\n",
       "      <td>0.000000</td>\n",
       "      <td>0.000000</td>\n",
       "      <td>0.000000</td>\n",
       "      <td>0.000000</td>\n",
       "      <td>0.000000</td>\n",
       "      <td>0.000000</td>\n",
       "      <td>0.000000</td>\n",
       "    </tr>\n",
       "    <tr>\n",
       "      <th>0</th>\n",
       "      <td>371447036</td>\n",
       "      <td>A</td>\n",
       "      <td>1.0</td>\n",
       "      <td>9356.666667</td>\n",
       "      <td>9356.666667</td>\n",
       "      <td>1.822294e-12</td>\n",
       "      <td>3.320754e-24</td>\n",
       "      <td>9356.666667</td>\n",
       "      <td>9356.666667</td>\n",
       "      <td>0.000000</td>\n",
       "      <td>...</td>\n",
       "      <td>0.000000</td>\n",
       "      <td>0.000000</td>\n",
       "      <td>0.0</td>\n",
       "      <td>0.000000</td>\n",
       "      <td>0.000000</td>\n",
       "      <td>0.000000</td>\n",
       "      <td>0.000000</td>\n",
       "      <td>0.000000</td>\n",
       "      <td>0.000000</td>\n",
       "      <td>0.000000</td>\n",
       "    </tr>\n",
       "    <tr>\n",
       "      <th>0</th>\n",
       "      <td>-4113511818</td>\n",
       "      <td>A</td>\n",
       "      <td>4.0</td>\n",
       "      <td>9624.115882</td>\n",
       "      <td>9972.500000</td>\n",
       "      <td>3.598210e+02</td>\n",
       "      <td>1.294712e+05</td>\n",
       "      <td>9253.333333</td>\n",
       "      <td>9985.833333</td>\n",
       "      <td>732.500000</td>\n",
       "      <td>...</td>\n",
       "      <td>18.298379</td>\n",
       "      <td>334.830661</td>\n",
       "      <td>0.0</td>\n",
       "      <td>57.878788</td>\n",
       "      <td>57.878788</td>\n",
       "      <td>-1.512967</td>\n",
       "      <td>0.648421</td>\n",
       "      <td>43.939394</td>\n",
       "      <td>44.242424</td>\n",
       "      <td>48.484848</td>\n",
       "    </tr>\n",
       "    <tr>\n",
       "      <th>0</th>\n",
       "      <td>-4113511780</td>\n",
       "      <td>A</td>\n",
       "      <td>4.0</td>\n",
       "      <td>9266.260623</td>\n",
       "      <td>9266.666667</td>\n",
       "      <td>3.802814e+00</td>\n",
       "      <td>1.446140e+01</td>\n",
       "      <td>9260.000000</td>\n",
       "      <td>9272.500000</td>\n",
       "      <td>12.500000</td>\n",
       "      <td>...</td>\n",
       "      <td>27.897365</td>\n",
       "      <td>778.262958</td>\n",
       "      <td>0.0</td>\n",
       "      <td>106.363636</td>\n",
       "      <td>106.363636</td>\n",
       "      <td>-0.517512</td>\n",
       "      <td>-0.588680</td>\n",
       "      <td>33.030303</td>\n",
       "      <td>48.787879</td>\n",
       "      <td>69.696970</td>\n",
       "    </tr>\n",
       "  </tbody>\n",
       "</table>\n",
       "<p>5 rows × 231 columns</p>\n",
       "</div>"
      ],
      "text/plain": [
       "     WAFER_ID STAGE  CHAMBER  USAGE_OF_BACKING_FILM_Mean  \\\n",
       "0   371447024     A      1.0                 9307.651515   \n",
       "0   371447028     A      1.0                 9356.666667   \n",
       "0   371447036     A      1.0                 9356.666667   \n",
       "0 -4113511818     A      4.0                 9624.115882   \n",
       "0 -4113511780     A      4.0                 9266.260623   \n",
       "\n",
       "   USAGE_OF_BACKING_FILM_Median  USAGE_OF_BACKING_FILM_StdDev  \\\n",
       "0                   9307.500000                  3.083687e+00   \n",
       "0                   9356.666667                  1.822178e-12   \n",
       "0                   9356.666667                  1.822294e-12   \n",
       "0                   9972.500000                  3.598210e+02   \n",
       "0                   9266.666667                  3.802814e+00   \n",
       "\n",
       "   USAGE_OF_BACKING_FILM_Variance  USAGE_OF_BACKING_FILM_Minimum  \\\n",
       "0                    9.509126e+00                    9302.500000   \n",
       "0                    3.320332e-24                    9356.666667   \n",
       "0                    3.320754e-24                    9356.666667   \n",
       "0                    1.294712e+05                    9253.333333   \n",
       "0                    1.446140e+01                    9260.000000   \n",
       "\n",
       "   USAGE_OF_BACKING_FILM_Maximum  USAGE_OF_BACKING_FILM_Range  ...  \\\n",
       "0                    9313.333333                    10.833333  ...   \n",
       "0                    9356.666667                     0.000000  ...   \n",
       "0                    9356.666667                     0.000000  ...   \n",
       "0                    9985.833333                   732.500000  ...   \n",
       "0                    9272.500000                    12.500000  ...   \n",
       "\n",
       "   EDGE_AIR_BAG_PRESSURE_StdDev  EDGE_AIR_BAG_PRESSURE_Variance  \\\n",
       "0                     19.533075                      381.541027   \n",
       "0                      0.000000                        0.000000   \n",
       "0                      0.000000                        0.000000   \n",
       "0                     18.298379                      334.830661   \n",
       "0                     27.897365                      778.262958   \n",
       "\n",
       "   EDGE_AIR_BAG_PRESSURE_Minimum  EDGE_AIR_BAG_PRESSURE_Maximum  \\\n",
       "0                            0.0                      60.909091   \n",
       "0                            0.0                       0.000000   \n",
       "0                            0.0                       0.000000   \n",
       "0                            0.0                      57.878788   \n",
       "0                            0.0                     106.363636   \n",
       "\n",
       "   EDGE_AIR_BAG_PRESSURE_Range  EDGE_AIR_BAG_PRESSURE_Skewness  \\\n",
       "0                    60.909091                       -2.039952   \n",
       "0                     0.000000                        0.000000   \n",
       "0                     0.000000                        0.000000   \n",
       "0                    57.878788                       -1.512967   \n",
       "0                   106.363636                       -0.517512   \n",
       "\n",
       "   EDGE_AIR_BAG_PRESSURE_Kurtosis  EDGE_AIR_BAG_PRESSURE_25thPercentile  \\\n",
       "0                        2.612346                             48.787879   \n",
       "0                        0.000000                              0.000000   \n",
       "0                        0.000000                              0.000000   \n",
       "0                        0.648421                             43.939394   \n",
       "0                       -0.588680                             33.030303   \n",
       "\n",
       "   EDGE_AIR_BAG_PRESSURE_50thPercentile  EDGE_AIR_BAG_PRESSURE_75thPercentile  \n",
       "0                             60.606061                             60.909091  \n",
       "0                              0.000000                              0.000000  \n",
       "0                              0.000000                              0.000000  \n",
       "0                             44.242424                             48.484848  \n",
       "0                             48.787879                             69.696970  \n",
       "\n",
       "[5 rows x 231 columns]"
      ]
     },
     "execution_count": 22,
     "metadata": {},
     "output_type": "execute_result"
    }
   ],
   "source": [
    "training_set.head()"
   ]
  },
  {
   "cell_type": "code",
   "execution_count": 23,
   "metadata": {},
   "outputs": [],
   "source": []
  },
  {
   "cell_type": "code",
   "execution_count": 42,
   "metadata": {},
   "outputs": [],
   "source": [
    "def merge_removal_csv(data: pd.DataFrame,\n",
    "                      output_set: str = 'training'):\n",
    "    output_data = pd.read_csv(\"../data/CMP-\" + output_set + \"-removalrate.csv\")\n",
    "    \n",
    "    merged_set = pd.merge(data, output_data, on=['WAFER_ID', 'STAGE'])\n",
    "    return merged_set"
   ]
  },
  {
   "cell_type": "code",
   "execution_count": 43,
   "metadata": {},
   "outputs": [
    {
     "data": {
      "text/plain": [
       "(0, 234)"
      ]
     },
     "execution_count": 43,
     "metadata": {},
     "output_type": "execute_result"
    }
   ],
   "source": [
    "training_set = merge_removal_csv(training_set, 'training')\n",
    "training_set.shape"
   ]
  },
  {
   "cell_type": "code",
   "execution_count": 44,
   "metadata": {},
   "outputs": [
    {
     "data": {
      "text/plain": [
       "(415, 233)"
      ]
     },
     "execution_count": 44,
     "metadata": {},
     "output_type": "execute_result"
    }
   ],
   "source": [
    "test_set = merge_removal_csv(test_set, 'test')\n",
    "test_set.shape"
   ]
  },
  {
   "cell_type": "markdown",
   "metadata": {},
   "source": [
    "# Data Analysis\n"
   ]
  },
  {
   "cell_type": "code",
   "execution_count": 27,
   "metadata": {},
   "outputs": [],
   "source": [
    "import matplotlib.pyplot as plt\n",
    "import seaborn as sns\n",
    "sns.set_theme()"
   ]
  },
  {
   "cell_type": "code",
   "execution_count": 39,
   "metadata": {},
   "outputs": [
    {
     "data": {
      "image/png": "[encoded data removed]",
      "text/plain": [
       "<Figure size 640x480 with 1 Axes>"
      ]
     },
     "metadata": {},
     "output_type": "display_data"
    }
   ],
   "source": [
    "plt.hist(training_set['AVG_REMOVAL_RATE'], bins=20)\n",
    "plt.grid(True)\n",
    "plt.xlim(0,1000)\n",
    "plt.show()"
   ]
  },
  {
   "cell_type": "code",
   "execution_count": 29,
   "metadata": {},
   "outputs": [
    {
     "data": {
      "text/plain": [
       "(4, 232)"
      ]
     },
     "execution_count": 29,
     "metadata": {},
     "output_type": "execute_result"
    }
   ],
   "source": [
    "training_set[training_set['AVG_REMOVAL_RATE'] > 300].shape"
   ]
  },
  {
   "cell_type": "code",
   "execution_count": 30,
   "metadata": {},
   "outputs": [],
   "source": [
    "copy_data = training_set.copy()\n",
    "copy_data = copy_data[copy_data['AVG_REMOVAL_RATE'] < 300]"
   ]
  },
  {
   "cell_type": "code",
   "execution_count": 31,
   "metadata": {},
   "outputs": [
    {
     "data": {
      "text/plain": [
       "(array([ 38.,  97., 148., 334., 339., 222., 118.,  32.,   3.,   0.,   0.,\n",
       "          0.,   0.,   0.,   0.,   2.,  28., 173., 136.,  25.]),\n",
       " array([ 53.42655  ,  58.8873075,  64.348065 ,  69.8088225,  75.26958  ,\n",
       "         80.7303375,  86.191095 ,  91.6518525,  97.11261  , 102.5733675,\n",
       "        108.034125 , 113.4948825, 118.95564  , 124.4163975, 129.877155 ,\n",
       "        135.3379125, 140.79867  , 146.2594275, 151.720185 , 157.1809425,\n",
       "        162.6417   ]),\n",
       " <BarContainer object of 20 artists>)"
      ]
     },
     "execution_count": 31,
     "metadata": {},
     "output_type": "execute_result"
    },
    {
     "data": {
      "image/png": "[encoded data removed]",
      "text/plain": [
       "<Figure size 640x480 with 1 Axes>"
      ]
     },
     "metadata": {},
     "output_type": "display_data"
    }
   ],
   "source": [
    "plt.hist(copy_data['AVG_REMOVAL_RATE'], bins=20)\n"
   ]
  },
  {
   "cell_type": "code",
   "execution_count": 32,
   "metadata": {},
   "outputs": [
    {
     "data": {
      "text/plain": [
       "(array([ 29.,  63., 112., 264., 249.,  77.,   4.,   0.,   0.,   0.,   0.,\n",
       "          0.,   0.,   0.,   0.,   2.,  28., 173., 136.,  25.]),\n",
       " array([ 53.42655  ,  58.8873075,  64.348065 ,  69.8088225,  75.26958  ,\n",
       "         80.7303375,  86.191095 ,  91.6518525,  97.11261  , 102.5733675,\n",
       "        108.034125 , 113.4948825, 118.95564  , 124.4163975, 129.877155 ,\n",
       "        135.3379125, 140.79867  , 146.2594275, 151.720185 , 157.1809425,\n",
       "        162.6417   ]),\n",
       " <BarContainer object of 20 artists>)"
      ]
     },
     "execution_count": 32,
     "metadata": {},
     "output_type": "execute_result"
    },
    {
     "data": {
      "image/png": "[encoded data removed]",
      "text/plain": [
       "<Figure size 640x480 with 1 Axes>"
      ]
     },
     "metadata": {},
     "output_type": "display_data"
    }
   ],
   "source": [
    "plt.hist(copy_data[copy_data['STAGE'] == 'A']['AVG_REMOVAL_RATE'], bins=20)\n"
   ]
  },
  {
   "cell_type": "code",
   "execution_count": 33,
   "metadata": {},
   "outputs": [
    {
     "data": {
      "text/plain": [
       "(array([ 2.,  7., 15., 12., 16., 14., 18., 32., 24., 33., 34., 55., 57.,\n",
       "        66., 56., 41., 30.,  9., 11.,  1.]),\n",
       " array([54.3072   , 56.5853625, 58.863525 , 61.1416875, 63.41985  ,\n",
       "        65.6980125, 67.976175 , 70.2543375, 72.5325   , 74.8106625,\n",
       "        77.088825 , 79.3669875, 81.64515  , 83.9233125, 86.201475 ,\n",
       "        88.4796375, 90.7578   , 93.0359625, 95.314125 , 97.5922875,\n",
       "        99.87045  ]),\n",
       " <BarContainer object of 20 artists>)"
      ]
     },
     "execution_count": 33,
     "metadata": {},
     "output_type": "execute_result"
    },
    {
     "data": {
      "image/png": "[encoded data removed]",
      "text/plain": [
       "<Figure size 640x480 with 1 Axes>"
      ]
     },
     "metadata": {},
     "output_type": "display_data"
    }
   ],
   "source": [
    "plt.hist(copy_data[copy_data['STAGE'] == 'B']['AVG_REMOVAL_RATE'], bins=20)\n"
   ]
  },
  {
   "cell_type": "markdown",
   "metadata": {},
   "source": [
    "### Tasks\n",
    "- eliminate outliers by a method, not by threshold\n",
    "- normalize the data\n",
    "- use random forest to select the best features and retrain the model with best fetrues and see if the - performance i sbettter\n",
    "- use the ReliefF to select the best features\n",
    "- explain the ReliefF to your instructor\n"
   ]
  },
  {
   "cell_type": "markdown",
   "metadata": {},
   "source": [
    "Task 1: Eliminate Outliers by a Method\n"
   ]
  },
  {
   "cell_type": "code",
   "execution_count": 34,
   "metadata": {},
   "outputs": [
    {
     "data": {
      "text/plain": [
       "Index(['WAFER_ID', 'STAGE', 'CHAMBER', 'USAGE_OF_BACKING_FILM_Mean',\n",
       "       'USAGE_OF_BACKING_FILM_Median', 'USAGE_OF_BACKING_FILM_StdDev',\n",
       "       'USAGE_OF_BACKING_FILM_Variance', 'USAGE_OF_BACKING_FILM_Minimum',\n",
       "       'USAGE_OF_BACKING_FILM_Maximum', 'USAGE_OF_BACKING_FILM_Range',\n",
       "       ...\n",
       "       'EDGE_AIR_BAG_PRESSURE_Variance', 'EDGE_AIR_BAG_PRESSURE_Minimum',\n",
       "       'EDGE_AIR_BAG_PRESSURE_Maximum', 'EDGE_AIR_BAG_PRESSURE_Range',\n",
       "       'EDGE_AIR_BAG_PRESSURE_Skewness', 'EDGE_AIR_BAG_PRESSURE_Kurtosis',\n",
       "       'EDGE_AIR_BAG_PRESSURE_25thPercentile',\n",
       "       'EDGE_AIR_BAG_PRESSURE_50thPercentile',\n",
       "       'EDGE_AIR_BAG_PRESSURE_75thPercentile', 'AVG_REMOVAL_RATE'],\n",
       "      dtype='object', length=232)"
      ]
     },
     "execution_count": 34,
     "metadata": {},
     "output_type": "execute_result"
    }
   ],
   "source": [
    "training_set.columns"
   ]
  },
  {
   "cell_type": "code",
   "execution_count": 35,
   "metadata": {},
   "outputs": [],
   "source": [
    "from scipy.stats import zscore\n",
    "\n",
    "# Iterate through all columns in the training dataset\n",
    "for column in training_set.columns:\n",
    "    # Skip non-numeric columns and columns you don't want to process\n",
    "    if training_set[column].dtype not in ['float64', 'int64']:\n",
    "        continue\n",
    "\n",
    "    # Calculate Z-scores for the current column\n",
    "    z_scores = zscore(training_set[column])\n",
    "\n",
    "    # Set a threshold value (commonly 2 or 3)\n",
    "    threshold = 3\n",
    "\n",
    "    # Remove data points with Z-scores beyond the threshold\n",
    "    training_set = training_set[(z_scores < threshold) & (z_scores > -threshold)]\n",
    "\n",
    "# The training_set now contains all columns with outliers removed\n"
   ]
  },
  {
   "cell_type": "code",
   "execution_count": 36,
   "metadata": {},
   "outputs": [
    {
     "data": {
      "text/plain": [
       "Series([], Name: AVG_REMOVAL_RATE, dtype: float64)"
      ]
     },
     "execution_count": 36,
     "metadata": {},
     "output_type": "execute_result"
    }
   ],
   "source": [
    "training_set.AVG_REMOVAL_RATE"
   ]
  },
  {
   "cell_type": "code",
   "execution_count": 37,
   "metadata": {},
   "outputs": [
    {
     "data": {
      "image/png": "[encoded data removed]",
      "text/plain": [
       "<Figure size 800x400 with 1 Axes>"
      ]
     },
     "metadata": {},
     "output_type": "display_data"
    }
   ],
   "source": [
    "\n",
    "plt.figure(figsize=(8,4))\n",
    "sns.histplot(training_set['AVG_REMOVAL_RATE'], kde=True)\n",
    "plt.title(f'Distribution of {column} after Outlier Removal')\n",
    "plt.xlabel(column)\n",
    "plt.ylabel('Frequency')\n",
    "plt.show()\n",
    "\n"
   ]
  },
  {
   "cell_type": "code",
   "execution_count": null,
   "metadata": {},
   "outputs": [],
   "source": []
  }
 ],
 "metadata": {
  "kernelspec": {
   "display_name": "Python 3 (ipykernel)",
   "language": "python",
   "name": "python3"
  },
  "language_info": {
   "codemirror_mode": {
    "name": "ipython",
    "version": 3
   },
   "file_extension": ".py",
   "mimetype": "text/x-python",
   "name": "python",
   "nbconvert_exporter": "python",
   "pygments_lexer": "ipython3",
   "version": "3.11.7"
  }
 },
 "nbformat": 4,
 "nbformat_minor": 2
}
